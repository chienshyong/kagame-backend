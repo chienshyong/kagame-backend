{
 "cells": [
  {
   "cell_type": "code",
   "execution_count": 15,
   "metadata": {},
   "outputs": [
    {
     "name": "stdout",
     "output_type": "stream",
     "text": [
      "Connected to MongoDB server. Server info:\n",
      "{'version': '8.0.4', 'gitVersion': 'bc35ab4305d9920d9d0491c1c9ef9b72383d31f9', 'modules': ['enterprise'], 'allocator': 'tcmalloc-google', 'javascriptEngine': 'mozjs', 'sysInfo': 'deprecated', 'versionArray': [8, 0, 4, 0], 'bits': 64, 'debug': False, 'maxBsonObjectSize': 16777216, 'storageEngines': ['devnull', 'inMemory', 'queryable_wt', 'wiredTiger'], 'ok': 1.0, '$clusterTime': {'clusterTime': Timestamp(1739499303, 26), 'signature': {'hash': b\"\\x15\\x8a`U\\x1f\\xb8\\xe7\\xdf\\x03\\xd5'\\x01\\xd5\\xd0\\xb1I\\xe8\\xc5D\\x98\", 'keyId': 7432374265015435492}}, 'operationTime': Timestamp(1739499303, 26)}\n"
     ]
    }
   ],
   "source": [
    "import os\n",
    "import sys\n",
    "\n",
    "parent_dir = os.path.abspath(os.path.join(os.getcwd(), os.pardir))\n",
    "sys.path.append(parent_dir)\n",
    "\n",
    "from openai import OpenAI\n",
    "from secretstuff.secret import OPENAI_API_KEY, OPENAI_ORG_ID, OPENAI_PROJ_ID\n",
    "from services.mongodb import catalogue\n",
    "from services.metadata import get_catalogue_metadata\n",
    "from pydantic import BaseModel\n",
    "import random\n",
    "import json"
   ]
  },
  {
   "cell_type": "code",
   "execution_count": 100,
   "metadata": {},
   "outputs": [],
   "source": [
    "create_outfit_tool = {\n",
    "      \"type\": \"function\",\n",
    "      \"function\": {\n",
    "        \"name\": \"create_outfit\",\n",
    "        \"description\": \"Assembles an outfit consisting of top, bottom, and shoes with specified attributes.\",\n",
    "        \"parameters\": {\n",
    "          \"type\": \"object\",\n",
    "          \"required\": [\n",
    "            \"top\",\n",
    "            \"shoes\",\n",
    "            \"bottom\"\n",
    "          ],\n",
    "          \"properties\": {\n",
    "            \"top\": {\n",
    "              \"type\": \"object\",\n",
    "              \"required\": [\n",
    "                \"color\",\n",
    "                \"material\",\n",
    "                \"other_tags\",\n",
    "                \"clothing_type\"\n",
    "              ],\n",
    "              \"properties\": {\n",
    "                \"color\": {\n",
    "                  \"type\": \"string\",\n",
    "                  \"description\": \"Color of the top garment\"\n",
    "                },\n",
    "                \"material\": {\n",
    "                  \"type\": \"string\",\n",
    "                  \"description\": \"Material from which the top is made\"\n",
    "                },\n",
    "                \"other_tags\": {\n",
    "                  \"type\": \"array\",\n",
    "                  \"description\": \"List of tags describing the style of the top\",\n",
    "                  \"items\": {\n",
    "                    \"type\": \"string\"\n",
    "                  }\n",
    "                },\n",
    "                \"clothing_type\": {\n",
    "                  \"type\": \"string\",\n",
    "                  \"description\": \"Type of clothing for the top\"\n",
    "                }\n",
    "              },\n",
    "              \"additionalProperties\": False\n",
    "            },\n",
    "            \"shoes\": {\n",
    "              \"type\": \"object\",\n",
    "              \"required\": [\n",
    "                \"color\",\n",
    "                \"material\",\n",
    "                \"other_tags\",\n",
    "                \"clothing_type\"\n",
    "              ],\n",
    "              \"properties\": {\n",
    "                \"color\": {\n",
    "                  \"type\": \"string\",\n",
    "                  \"description\": \"Color of the shoes\"\n",
    "                },\n",
    "                \"material\": {\n",
    "                  \"type\": \"string\",\n",
    "                  \"description\": \"Material from which the shoes are made\"\n",
    "                },\n",
    "                \"other_tags\": {\n",
    "                  \"type\": \"array\",\n",
    "                  \"description\": \"List of tags describing the style of the shoes\",\n",
    "                  \"items\": {\n",
    "                    \"type\": \"string\"\n",
    "                  }\n",
    "                },\n",
    "                \"clothing_type\": {\n",
    "                  \"type\": \"string\",\n",
    "                  \"description\": \"Type of shoes\"\n",
    "                }\n",
    "              },\n",
    "              \"additionalProperties\": False\n",
    "            },\n",
    "            \"bottom\": {\n",
    "              \"type\": \"object\",\n",
    "              \"required\": [\n",
    "                \"color\",\n",
    "                \"material\",\n",
    "                \"other_tags\",\n",
    "                \"clothing_type\"\n",
    "              ],\n",
    "              \"properties\": {\n",
    "                \"color\": {\n",
    "                  \"type\": \"string\",\n",
    "                  \"description\": \"Color of the bottom garment\"\n",
    "                },\n",
    "                \"material\": {\n",
    "                  \"type\": \"string\",\n",
    "                  \"description\": \"Material from which the bottom is made\"\n",
    "                },\n",
    "                \"other_tags\": {\n",
    "                  \"type\": \"array\",\n",
    "                  \"description\": \"List of tags describing the style of the bottom\",\n",
    "                  \"items\": {\n",
    "                    \"type\": \"string\"\n",
    "                  }\n",
    "                },\n",
    "                \"clothing_type\": {\n",
    "                  \"type\": \"string\",\n",
    "                  \"description\": \"Type of clothing for the bottom\"\n",
    "                }\n",
    "              },\n",
    "              \"additionalProperties\": False\n",
    "            }\n",
    "          },\n",
    "          \"additionalProperties\": False\n",
    "        },\n",
    "        \"strict\": True\n",
    "      }\n",
    "    }"
   ]
  },
  {
   "cell_type": "code",
   "execution_count": 101,
   "metadata": {},
   "outputs": [],
   "source": [
    "class ClothingTag(BaseModel):  # For catalogue\n",
    "    clothing_type: str\n",
    "    color: str\n",
    "    material: str\n",
    "    other_tags: list[str]"
   ]
  },
  {
   "cell_type": "code",
   "execution_count": 102,
   "metadata": {},
   "outputs": [],
   "source": [
    "class UserPersona(BaseModel):\n",
    "    age: int\n",
    "    gender: str\n",
    "    height: int\n",
    "    skin_tone: str\n",
    "    style: list[str]\n",
    "\n",
    "    #recommendations: {'item':ClothingTag, recommended: [{'top':clothingTag, 'bottom':clothingTag, 'shoes':clothingTag}]}\n",
    "    recommendations: dict[str, list[dict[str, ClothingTag]] | ClothingTag]\n",
    "\n",
    "    #preferences: {'tops': [\"casual tee shirts\",\"textual graphics tee shirts\"],'bottoms': [\"jeans\",\"trousers\"],'shoes': [\"sneakers\",\"boots\"]}}\n",
    "    #idea is to populate this when the user gives fedback on the recommendations, keep maybe 3 preferences for each category -> to be updated with each feedback\n",
    "    preferences: dict[str, list[str]]"
   ]
  },
  {
   "cell_type": "code",
   "execution_count": 103,
   "metadata": {},
   "outputs": [],
   "source": [
    "openai_client = OpenAI(\n",
    "    organization=OPENAI_ORG_ID,\n",
    "    project=OPENAI_PROJ_ID,\n",
    "    api_key=OPENAI_API_KEY\n",
    ")"
   ]
  },
  {
   "cell_type": "code",
   "execution_count": 122,
   "metadata": {},
   "outputs": [],
   "source": [
    "def generate_outfit_recommendations(item: ClothingTag, additional_prompt: str,user) -> ClothingTag:\n",
    "    age = user.age\n",
    "    gender = user.gender\n",
    "    skin_tone = user.skin_tone\n",
    "    style = user.style\n",
    "    preferences = user.preferences\n",
    "\n",
    "    #making a nice sentence about user preferences to inclcude in prompt\n",
    "    parts = []\n",
    "    if preferences == {}:\n",
    "        user_preferences = \"\"\n",
    "    else:\n",
    "        if preferences['tops']:\n",
    "            parts.append(f\"{', '.join(preferences['tops'])}\")\n",
    "        if preferences['bottoms']:\n",
    "            parts.append(f\"{', '.join(preferences['bottoms'])}\")\n",
    "        if preferences['shoes']:\n",
    "            parts.append(f\"{', '.join(preferences['shoes'])}\")\n",
    "        user_preferences = f\"The user prefers wearing: {', '.join(parts)}.\"\n",
    "\n",
    "    #if there is no additional prompt, we don't want to include it in the prompt\n",
    "    if not additional_prompt.strip():\n",
    "        item_description = f\"{item.color} {item.material} {item.clothing_type} ({item.other_tags}). Additional prompt: {additional_prompt}\"\n",
    "    else:\n",
    "        item_description = f\"{item.color} {item.material} {item.clothing_type} ({item.other_tags})\"\n",
    "\n",
    "    system_message = f\"You are a fashion stylist creating an outfit for a {age} year old {skin_tone} skin {gender} who likes wearing {style} outfits. \\\n",
    "        {user_preferences} \\\n",
    "        Given a description of a clothing item (example: white polo tee shirt with black printed text) recommend complementary clothes to complete the outfit. \\\n",
    "        Follow these steps to recommend an outfit: 1) consider the user persona mentioned to analyse the style of clothes to be recommend.\\\n",
    "        2) if the given item is a top (tee shirt, polo, shirt, dress, tank top etc), give recommendations for bottoms (pants, shorts, trousers, jeans skirts, leggings etc) and for shoes. \\\n",
    "        If the given item is a shoe, give recommendations for tops and bottoms. If the given item is a bottom, give recommendations for the top and shoes. \\\n",
    "        You may also be given additional prompts in text to constrain the style of the matched item. \\\n",
    "        Compile the output into a JSON which contains the description of all the items in the completed outfit. Generate 3 such outfits. \"\n",
    "    \n",
    "    response = openai_client.chat.completions.create(\n",
    "        model=\"gpt-4o-mini\",\n",
    "        messages=[\n",
    "            {\"role\": \"system\", \"content\": system_message},\n",
    "            {\"role\": \"user\", \"content\": item_description},\n",
    "            ],\n",
    "        tools = [create_outfit_tool],\n",
    "        tool_choice = {\"type\": \"function\", \"function\": {\"name\": \"create_outfit\"}})\n",
    "    \n",
    "    parsed_response = json.loads(response.choices[0].message.tool_calls[0].function.arguments)\n",
    "    top = parsed_response['top']\n",
    "    bottom = parsed_response['bottom']\n",
    "    shoes = parsed_response['shoes']\n",
    "\n",
    "    top = ClothingTag(**{**top, 'other_tags': list(top['other_tags'])})\n",
    "    bottom = ClothingTag(**{**bottom, 'other_tags': list(bottom['other_tags'])})\n",
    "    shoes = ClothingTag(**{**shoes, 'other_tags': list(shoes['other_tags'])})\n",
    "\n",
    "\n",
    "    # recommended = {'item':item, recommended: [{'top':top, 'bottom':bottom, 'shoes':shoes}]}\n",
    "    if user.recommendations == {}:\n",
    "        recommended = []\n",
    "    else:\n",
    "        recommended = user.recommendations['recommended']\n",
    "\n",
    "    # #we only want to keep information about the last 3 recommendations\n",
    "    if len(recommended) < 3:\n",
    "        recommended.append({'top': top, 'bottom': bottom, 'shoes': shoes})\n",
    "    else:\n",
    "        recommended.pop(0)\n",
    "        recommended.append({'top': top, 'bottom': bottom, 'shoes': shoes})\n",
    "\n",
    "    user.recommendations = {'item': item, 'recommended': recommended}\n",
    "    return top, bottom, shoes"
   ]
  },
  {
   "cell_type": "code",
   "execution_count": 123,
   "metadata": {},
   "outputs": [
    {
     "data": {
      "text/plain": [
       "{}"
      ]
     },
     "execution_count": 123,
     "metadata": {},
     "output_type": "execute_result"
    }
   ],
   "source": [
    "item = ClothingTag(clothing_type=\"tee shirt\", color=\"white\", material=\"cotton\", other_tags=[\"printed text\"])\n",
    "user = UserPersona(age=23, gender=\"male\", height=180, skin_tone=\"light-brown\", style=[\"casual\", \"streetwear\"], recommendations={}, preferences={})\n",
    "\n",
    "user.preferences"
   ]
  },
  {
   "cell_type": "code",
   "execution_count": 124,
   "metadata": {},
   "outputs": [],
   "source": [
    "outfit = generate_outfit_recommendations(item,\"\",user)"
   ]
  },
  {
   "cell_type": "code",
   "execution_count": 125,
   "metadata": {},
   "outputs": [
    {
     "data": {
      "text/plain": [
       "(ClothingTag(clothing_type='t-shirt', color='white', material='cotton', other_tags=['printed text']),\n",
       " ClothingTag(clothing_type='jeans', color='light-blue', material='denim', other_tags=['casual', 'streetwear', 'distressed']),\n",
       " ClothingTag(clothing_type='sneakers', color='black', material='canvas', other_tags=['casual', 'streetwear']))"
      ]
     },
     "execution_count": 125,
     "metadata": {},
     "output_type": "execute_result"
    }
   ],
   "source": [
    "outfit"
   ]
  },
  {
   "cell_type": "code",
   "execution_count": null,
   "metadata": {},
   "outputs": [],
   "source": []
  }
 ],
 "metadata": {
  "kernelspec": {
   "display_name": "kagame",
   "language": "python",
   "name": "python3"
  },
  "language_info": {
   "codemirror_mode": {
    "name": "ipython",
    "version": 3
   },
   "file_extension": ".py",
   "mimetype": "text/x-python",
   "name": "python",
   "nbconvert_exporter": "python",
   "pygments_lexer": "ipython3",
   "version": "3.12.7"
  }
 },
 "nbformat": 4,
 "nbformat_minor": 2
}
